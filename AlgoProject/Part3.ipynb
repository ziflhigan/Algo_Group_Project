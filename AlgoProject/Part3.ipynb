{
 "cells": [
  {
   "cell_type": "markdown",
   "source": [
    "# part 3"
   ],
   "metadata": {
    "collapsed": false
   }
  },
  {
   "cell_type": "code",
   "source": [
    "# Dictionary of items, descriptions, values and weights\n",
    "dict_items = {}\n",
    "dict_items[\"Sceptre of Eternal Power\"] = {\"Description\": \"A jewelled sceptre adorned with rare gems, said to grant its wielder unimaginable power and authority over life and death. Legends claim it was used by the ancient pharaohs to command the forces of nature and control the destiny of nations.\", \"Value\": 1000000, \"Weight\": 5}\n",
    "dict_items[\"The Eye of Horus Pendant\"] = {\"Description\": \"A golden pendant in the shape of the Eye of Horus, crafted with intricate hieroglyphics and encrusted with precious stones. It is rumoured to possess protective powers, granting its wearer visions of the future and safeguarding them from harm\", \"Value\": 2, \"Weight\": 0.5}\n",
    "dict_items[\"The Ankh of Immortality\"] = {\"Description\": \"A shimmering ankh symbol made of pure silver, believed to hold the secret to eternal life. According to myth, those who possess it can defy death itself and enjoy everlasting youth and vitality\", \"Value\": 5, \"Weight\": 1.5}\n",
    "dict_items[\"The Scarab Amulet of Fortune\"] = {\"Description\": \"An ancient scarab amulet carved from jade, with iridescent wings and inscribed with ancient symbols. Legend has it that it brings incredible luck to its owner, ensuring prosperity, success, and protection from evil spirits.\", \"Value\": 1.5, \"Weight\": 0.2}\n",
    "dict_items[\"The Golden Mask of Osiris\"] = {\"Description\": \"A magnificent mask crafted from solid gold, depicting the god Osiris with eyes encrusted with sparkling gemstones. It is said to hold the wisdom of the gods and bestow unparalleled insight and enlightenment upon those who wear it.\", \"Value\": 10, \"Weight\": 2}\n",
    "dict_items[\"The Crown of the Pharaohs\"] = {\"Description\": \"A majestic crown adorned with rare jewels and precious metals, symbolizing the divine authority of the pharaohs. It is said to confer upon its wearer the wisdom of the gods and the right to rule over the lands of Egypt with absolute power and sovereignty.\", \"Value\": 15, \"Weight\": 3}\n",
    "dict_items[\"The Emerald Scarab of Transformation\"] = {\"Description\": \"A large emerald scarab beetle statue with wings outstretched, believed to hold the power of metamorphosis. According to legend, it can grant its possessor the ability to shape-shift into any creature they desire, transcending the limitations of mortal form.\", \"Value\": 3, \"Weight\": 2}"
   ],
   "metadata": {
    "collapsed": false,
    "ExecuteTime": {
     "end_time": "2024-05-28T09:42:02.641842Z",
     "start_time": "2024-05-28T09:42:02.610664Z"
    }
   },
   "outputs": [],
   "execution_count": 156
  },
  {
   "cell_type": "code",
   "source": [
    "# items,descrptions, weights and values\n",
    "items = [\"Sceptre of Eternal Power\", \"The Eye of Horus Pendant\", \"The Ankh of Immortality\", \"The Scarab Amulet of Fortune\", \"The Golden Mask of Osiris\", \"The Crown of the Pharaohs\", \"The Emerald Scarab of Transformation\"]\n",
    "Descriptions = [\"A jewelled sceptre adorned with rare gems, said to grant its wielder unimaginable power and authority over life and death. Legends claim it was used by the ancient pharaohs to command the forces of nature and control the destiny of nations.\", \"A golden pendant in the shape of the Eye of Horus, crafted with intricate hieroglyphics and encrusted with precious stones. It is rumoured to possess protective powers, granting its wearer visions of the future and safeguarding them from harm\", \"A shimmering ankh symbol made of pure silver, believed to hold the secret to eternal life. According to myth, those who possess it can defy death itself and enjoy everlasting youth and vitality\", \"An ancient scarab amulet carved from jade, with iridescent wings and inscribed with ancient symbols. Legend has it that it brings incredible luck to its owner, ensuring prosperity, success, and protection from evil spirits.\", \"A magnificent mask crafted from solid gold, depicting the god Osiris with eyes encrusted with sparkling gemstones. It is said to hold the wisdom of the gods and bestow unparalleled insight and enlightenment upon those who wear it.\", \"A majestic crown adorned with rare jewels and precious metals, symbolizing the divine authority of the pharaohs. It is said to confer upon its wearer the wisdom of the gods and the right to rule over the lands of Egypt with absolute power and sovereignty.\", \"A large emerald scarab beetle statue with wings outstretched, believed to hold the power of metamorphosis. According to legend, it can grant its possessor the ability to shape-shift into any creature they desire, transcending the limitations of mortal form.\"]\n",
    "Values = [1000000, 2, 5, 1.5, 10, 15, 3]\n",
    "Weights = [5, 0.5, 1.5, 0.2, 2, 3, 2]"
   ],
   "metadata": {
    "collapsed": false,
    "ExecuteTime": {
     "end_time": "2024-05-28T09:42:02.704654Z",
     "start_time": "2024-05-28T09:42:02.689030Z"
    }
   },
   "outputs": [],
   "execution_count": 157
  },
  {
   "cell_type": "code",
   "source": [
    "#"
   ],
   "metadata": {
    "collapsed": false,
    "ExecuteTime": {
     "end_time": "2024-05-28T09:42:02.720282Z",
     "start_time": "2024-05-28T09:42:02.704654Z"
    }
   },
   "outputs": [],
   "execution_count": 158
  },
  {
   "cell_type": "code",
   "source": [
    "# Display the items in a tablular format\n",
    "import pandas as pd\n",
    "df = pd.DataFrame({\"Item\": items, \"Description\": Descriptions, \"Value\": Values, \"Weight\": Weights})\n",
    "df"
   ],
   "metadata": {
    "collapsed": false,
    "ExecuteTime": {
     "end_time": "2024-05-28T09:42:02.736304Z",
     "start_time": "2024-05-28T09:42:02.720282Z"
    }
   },
   "outputs": [
    {
     "data": {
      "text/plain": [
       "                                   Item  \\\n",
       "0              Sceptre of Eternal Power   \n",
       "1              The Eye of Horus Pendant   \n",
       "2               The Ankh of Immortality   \n",
       "3          The Scarab Amulet of Fortune   \n",
       "4             The Golden Mask of Osiris   \n",
       "5             The Crown of the Pharaohs   \n",
       "6  The Emerald Scarab of Transformation   \n",
       "\n",
       "                                         Description      Value  Weight  \n",
       "0  A jewelled sceptre adorned with rare gems, sai...  1000000.0     5.0  \n",
       "1  A golden pendant in the shape of the Eye of Ho...        2.0     0.5  \n",
       "2  A shimmering ankh symbol made of pure silver, ...        5.0     1.5  \n",
       "3  An ancient scarab amulet carved from jade, wit...        1.5     0.2  \n",
       "4  A magnificent mask crafted from solid gold, de...       10.0     2.0  \n",
       "5  A majestic crown adorned with rare jewels and ...       15.0     3.0  \n",
       "6  A large emerald scarab beetle statue with wing...        3.0     2.0  "
      ],
      "text/html": [
       "<div>\n",
       "<style scoped>\n",
       "    .dataframe tbody tr th:only-of-type {\n",
       "        vertical-align: middle;\n",
       "    }\n",
       "\n",
       "    .dataframe tbody tr th {\n",
       "        vertical-align: top;\n",
       "    }\n",
       "\n",
       "    .dataframe thead th {\n",
       "        text-align: right;\n",
       "    }\n",
       "</style>\n",
       "<table border=\"1\" class=\"dataframe\">\n",
       "  <thead>\n",
       "    <tr style=\"text-align: right;\">\n",
       "      <th></th>\n",
       "      <th>Item</th>\n",
       "      <th>Description</th>\n",
       "      <th>Value</th>\n",
       "      <th>Weight</th>\n",
       "    </tr>\n",
       "  </thead>\n",
       "  <tbody>\n",
       "    <tr>\n",
       "      <th>0</th>\n",
       "      <td>Sceptre of Eternal Power</td>\n",
       "      <td>A jewelled sceptre adorned with rare gems, sai...</td>\n",
       "      <td>1000000.0</td>\n",
       "      <td>5.0</td>\n",
       "    </tr>\n",
       "    <tr>\n",
       "      <th>1</th>\n",
       "      <td>The Eye of Horus Pendant</td>\n",
       "      <td>A golden pendant in the shape of the Eye of Ho...</td>\n",
       "      <td>2.0</td>\n",
       "      <td>0.5</td>\n",
       "    </tr>\n",
       "    <tr>\n",
       "      <th>2</th>\n",
       "      <td>The Ankh of Immortality</td>\n",
       "      <td>A shimmering ankh symbol made of pure silver, ...</td>\n",
       "      <td>5.0</td>\n",
       "      <td>1.5</td>\n",
       "    </tr>\n",
       "    <tr>\n",
       "      <th>3</th>\n",
       "      <td>The Scarab Amulet of Fortune</td>\n",
       "      <td>An ancient scarab amulet carved from jade, wit...</td>\n",
       "      <td>1.5</td>\n",
       "      <td>0.2</td>\n",
       "    </tr>\n",
       "    <tr>\n",
       "      <th>4</th>\n",
       "      <td>The Golden Mask of Osiris</td>\n",
       "      <td>A magnificent mask crafted from solid gold, de...</td>\n",
       "      <td>10.0</td>\n",
       "      <td>2.0</td>\n",
       "    </tr>\n",
       "    <tr>\n",
       "      <th>5</th>\n",
       "      <td>The Crown of the Pharaohs</td>\n",
       "      <td>A majestic crown adorned with rare jewels and ...</td>\n",
       "      <td>15.0</td>\n",
       "      <td>3.0</td>\n",
       "    </tr>\n",
       "    <tr>\n",
       "      <th>6</th>\n",
       "      <td>The Emerald Scarab of Transformation</td>\n",
       "      <td>A large emerald scarab beetle statue with wing...</td>\n",
       "      <td>3.0</td>\n",
       "      <td>2.0</td>\n",
       "    </tr>\n",
       "  </tbody>\n",
       "</table>\n",
       "</div>"
      ]
     },
     "execution_count": 159,
     "metadata": {},
     "output_type": "execute_result"
    }
   ],
   "execution_count": 159
  },
  {
   "cell_type": "markdown",
   "source": [
    "### Selecting items to maximize value"
   ],
   "metadata": {
    "collapsed": false
   }
  },
  {
   "cell_type": "code",
   "source": [
    "# Set the maximum weight that the knapsack can hold\n",
    "max_weight = 10"
   ],
   "metadata": {
    "collapsed": false,
    "ExecuteTime": {
     "end_time": "2024-05-28T09:42:02.751975Z",
     "start_time": "2024-05-28T09:42:02.736304Z"
    }
   },
   "outputs": [],
   "execution_count": 160
  },
  {
   "cell_type": "markdown",
   "source": [
    "#### Brute force approach"
   ],
   "metadata": {
    "collapsed": false
   }
  },
  {
   "cell_type": "code",
   "source": [
    "# Define a function to find the best combination of items to maximize value\n",
    "def knapsack_brute_force(items, values, weights, max_weight):\n",
    "    n = len(items)\n",
    "    max_value = 0\n",
    "    best_combination = []\n",
    "    for i in range(2**n):\n",
    "        combination = []\n",
    "        value = 0\n",
    "        weight = 0\n",
    "        for j in range(n):\n",
    "            if (i >> j) % 2 == 1:\n",
    "                combination.append(items[j])\n",
    "                value += values[j]\n",
    "                weight += weights[j]\n",
    "        if weight <= max_weight and value > max_value:\n",
    "            max_value = value\n",
    "            best_combination = combination\n",
    "    return best_combination, max_value"
   ],
   "metadata": {
    "collapsed": false,
    "ExecuteTime": {
     "end_time": "2024-05-28T09:42:02.767597Z",
     "start_time": "2024-05-28T09:42:02.751975Z"
    }
   },
   "outputs": [],
   "execution_count": 161
  },
  {
   "cell_type": "code",
   "source": [
    "# Find the best combination of items to maximize value\n",
    "knapsack, max_value = knapsack_brute_force(items, Values, Weights, max_weight)"
   ],
   "metadata": {
    "collapsed": false,
    "ExecuteTime": {
     "end_time": "2024-05-28T09:42:02.783225Z",
     "start_time": "2024-05-28T09:42:02.767597Z"
    }
   },
   "outputs": [],
   "execution_count": 162
  },
  {
   "cell_type": "code",
   "source": [
    "# Display the items selected and the total value\n",
    "print(\"Items selected:\", knapsack)\n",
    "print(\"Total value:\", max_value)"
   ],
   "metadata": {
    "collapsed": false,
    "ExecuteTime": {
     "end_time": "2024-05-28T09:42:02.798812Z",
     "start_time": "2024-05-28T09:42:02.783225Z"
    }
   },
   "outputs": [
    {
     "name": "stdout",
     "output_type": "stream",
     "text": [
      "Items selected: ['Sceptre of Eternal Power', 'The Golden Mask of Osiris', 'The Crown of the Pharaohs']\n",
      "Total value: 1000025\n"
     ]
    }
   ],
   "execution_count": 163
  },
  {
   "cell_type": "markdown",
   "source": [],
   "metadata": {
    "collapsed": false
   }
  },
  {
   "cell_type": "code",
   "source": [
    "# Display the items, description, value and weight in a tablular format with the total value and weight\n",
    "df = pd.DataFrame({\"Item\": knapsack, \"Description\": [dict_items[item][\"Description\"] for item in knapsack], \"Value\": [dict_items[item][\"Value\"] for item in knapsack], \"Weight\": [dict_items[item][\"Weight\"] for item in knapsack]})\n",
    "df.loc[len(df)] = [\"Total\", \"\", max_value, max_weight]\n",
    "df"
   ],
   "metadata": {
    "collapsed": false,
    "ExecuteTime": {
     "end_time": "2024-05-28T09:42:02.814474Z",
     "start_time": "2024-05-28T09:42:02.798812Z"
    }
   },
   "outputs": [
    {
     "data": {
      "text/plain": [
       "                        Item  \\\n",
       "0   Sceptre of Eternal Power   \n",
       "1  The Golden Mask of Osiris   \n",
       "2  The Crown of the Pharaohs   \n",
       "3                      Total   \n",
       "\n",
       "                                         Description    Value  Weight  \n",
       "0  A jewelled sceptre adorned with rare gems, sai...  1000000       5  \n",
       "1  A magnificent mask crafted from solid gold, de...       10       2  \n",
       "2  A majestic crown adorned with rare jewels and ...       15       3  \n",
       "3                                                     1000025      10  "
      ],
      "text/html": [
       "<div>\n",
       "<style scoped>\n",
       "    .dataframe tbody tr th:only-of-type {\n",
       "        vertical-align: middle;\n",
       "    }\n",
       "\n",
       "    .dataframe tbody tr th {\n",
       "        vertical-align: top;\n",
       "    }\n",
       "\n",
       "    .dataframe thead th {\n",
       "        text-align: right;\n",
       "    }\n",
       "</style>\n",
       "<table border=\"1\" class=\"dataframe\">\n",
       "  <thead>\n",
       "    <tr style=\"text-align: right;\">\n",
       "      <th></th>\n",
       "      <th>Item</th>\n",
       "      <th>Description</th>\n",
       "      <th>Value</th>\n",
       "      <th>Weight</th>\n",
       "    </tr>\n",
       "  </thead>\n",
       "  <tbody>\n",
       "    <tr>\n",
       "      <th>0</th>\n",
       "      <td>Sceptre of Eternal Power</td>\n",
       "      <td>A jewelled sceptre adorned with rare gems, sai...</td>\n",
       "      <td>1000000</td>\n",
       "      <td>5</td>\n",
       "    </tr>\n",
       "    <tr>\n",
       "      <th>1</th>\n",
       "      <td>The Golden Mask of Osiris</td>\n",
       "      <td>A magnificent mask crafted from solid gold, de...</td>\n",
       "      <td>10</td>\n",
       "      <td>2</td>\n",
       "    </tr>\n",
       "    <tr>\n",
       "      <th>2</th>\n",
       "      <td>The Crown of the Pharaohs</td>\n",
       "      <td>A majestic crown adorned with rare jewels and ...</td>\n",
       "      <td>15</td>\n",
       "      <td>3</td>\n",
       "    </tr>\n",
       "    <tr>\n",
       "      <th>3</th>\n",
       "      <td>Total</td>\n",
       "      <td></td>\n",
       "      <td>1000025</td>\n",
       "      <td>10</td>\n",
       "    </tr>\n",
       "  </tbody>\n",
       "</table>\n",
       "</div>"
      ]
     },
     "execution_count": 164,
     "metadata": {},
     "output_type": "execute_result"
    }
   ],
   "execution_count": 164
  },
  {
   "cell_type": "markdown",
   "source": [
    "#### Dynamic programming approach"
   ],
   "metadata": {
    "collapsed": false
   }
  },
  {
   "cell_type": "code",
   "source": [
    "def knapsack_dynamic_programming_memoization(items, values, weights, max_weight, memo=None):\n",
    "    if memo is None:\n",
    "        memo = {}\n",
    "\n",
    "    # Convert the items list to a tuple to use as a hashable key\n",
    "    items_tuple = tuple(items)\n",
    "\n",
    "    if (items_tuple, max_weight) in memo:\n",
    "        return memo[(items_tuple, max_weight)]\n",
    "\n",
    "    if not items or max_weight == 0:\n",
    "        return [], 0\n",
    "\n",
    "    if weights[0] > max_weight:\n",
    "        result = knapsack_dynamic_programming_memoization(items[1:], values[1:], weights[1:], max_weight, memo)\n",
    "    else:\n",
    "        include = knapsack_dynamic_programming_memoization(items[1:], values[1:], weights[1:], max_weight - weights[0], memo)\n",
    "        include = (include[0] + [items[0]], include[1] + values[0])\n",
    "\n",
    "        exclude = knapsack_dynamic_programming_memoization(items[1:], values[1:], weights[1:], max_weight, memo)\n",
    "\n",
    "        result = include if include[1] > exclude[1] else exclude\n",
    "\n",
    "    memo[(items_tuple, max_weight)] = result\n",
    "    return result"
   ],
   "metadata": {
    "collapsed": false,
    "ExecuteTime": {
     "end_time": "2024-05-28T09:42:02.830541Z",
     "start_time": "2024-05-28T09:42:02.814474Z"
    }
   },
   "outputs": [],
   "execution_count": 165
  },
  {
   "cell_type": "code",
   "source": [
    "# Find the best combination of items to maximize value\n",
    "knapsack, max_value = knapsack_dynamic_programming_memoization(items, Values, Weights, max_weight)"
   ],
   "metadata": {
    "collapsed": false,
    "ExecuteTime": {
     "end_time": "2024-05-28T09:42:02.846176Z",
     "start_time": "2024-05-28T09:42:02.830541Z"
    }
   },
   "outputs": [],
   "execution_count": 166
  },
  {
   "cell_type": "code",
   "source": [
    "# Display the items, description, value and weight in a tablular format with the total value and weight\n",
    "df = pd.DataFrame({\"Item\": knapsack, \"Description\": [dict_items[item][\"Description\"] for item in knapsack], \"Value\": [dict_items[item][\"Value\"] for item in knapsack], \"Weight\": [dict_items[item][\"Weight\"] for item in knapsack]})\n",
    "df.loc[len(df)] = [\"Total\", \"\", max_value, max_weight]\n",
    "df"
   ],
   "metadata": {
    "collapsed": false,
    "ExecuteTime": {
     "end_time": "2024-05-28T09:42:02.881973Z",
     "start_time": "2024-05-28T09:42:02.846176Z"
    }
   },
   "outputs": [
    {
     "data": {
      "text/plain": [
       "                        Item  \\\n",
       "0  The Crown of the Pharaohs   \n",
       "1  The Golden Mask of Osiris   \n",
       "2   Sceptre of Eternal Power   \n",
       "3                      Total   \n",
       "\n",
       "                                         Description    Value  Weight  \n",
       "0  A majestic crown adorned with rare jewels and ...       15       3  \n",
       "1  A magnificent mask crafted from solid gold, de...       10       2  \n",
       "2  A jewelled sceptre adorned with rare gems, sai...  1000000       5  \n",
       "3                                                     1000025      10  "
      ],
      "text/html": [
       "<div>\n",
       "<style scoped>\n",
       "    .dataframe tbody tr th:only-of-type {\n",
       "        vertical-align: middle;\n",
       "    }\n",
       "\n",
       "    .dataframe tbody tr th {\n",
       "        vertical-align: top;\n",
       "    }\n",
       "\n",
       "    .dataframe thead th {\n",
       "        text-align: right;\n",
       "    }\n",
       "</style>\n",
       "<table border=\"1\" class=\"dataframe\">\n",
       "  <thead>\n",
       "    <tr style=\"text-align: right;\">\n",
       "      <th></th>\n",
       "      <th>Item</th>\n",
       "      <th>Description</th>\n",
       "      <th>Value</th>\n",
       "      <th>Weight</th>\n",
       "    </tr>\n",
       "  </thead>\n",
       "  <tbody>\n",
       "    <tr>\n",
       "      <th>0</th>\n",
       "      <td>The Crown of the Pharaohs</td>\n",
       "      <td>A majestic crown adorned with rare jewels and ...</td>\n",
       "      <td>15</td>\n",
       "      <td>3</td>\n",
       "    </tr>\n",
       "    <tr>\n",
       "      <th>1</th>\n",
       "      <td>The Golden Mask of Osiris</td>\n",
       "      <td>A magnificent mask crafted from solid gold, de...</td>\n",
       "      <td>10</td>\n",
       "      <td>2</td>\n",
       "    </tr>\n",
       "    <tr>\n",
       "      <th>2</th>\n",
       "      <td>Sceptre of Eternal Power</td>\n",
       "      <td>A jewelled sceptre adorned with rare gems, sai...</td>\n",
       "      <td>1000000</td>\n",
       "      <td>5</td>\n",
       "    </tr>\n",
       "    <tr>\n",
       "      <th>3</th>\n",
       "      <td>Total</td>\n",
       "      <td></td>\n",
       "      <td>1000025</td>\n",
       "      <td>10</td>\n",
       "    </tr>\n",
       "  </tbody>\n",
       "</table>\n",
       "</div>"
      ]
     },
     "execution_count": 167,
     "metadata": {},
     "output_type": "execute_result"
    }
   ],
   "execution_count": 167
  },
  {
   "cell_type": "markdown",
   "source": [
    "#### Greedy approach"
   ],
   "metadata": {
    "collapsed": false
   }
  },
  {
   "metadata": {
    "ExecuteTime": {
     "end_time": "2024-05-28T09:42:02.950786Z",
     "start_time": "2024-05-28T09:42:02.934982Z"
    }
   },
   "cell_type": "code",
   "source": [
    "# Define a function to find the best combination of items to maximize the value of the knapsack using a greedy approach\n",
    "def knapsack_greedy(items, values, weights, max_weight):\n",
    "    def greedy_by_ratio():\n",
    "        ratios = [(values[i] / weights[i], i) for i in range(len(items))]\n",
    "        ratios.sort(reverse=True, key=lambda x: x[0])\n",
    "        return greedy_selection(ratios)\n",
    "\n",
    "    def greedy_by_value():\n",
    "        value_sorted = sorted(range(len(items)), key=lambda i: values[i], reverse=True)\n",
    "        return greedy_selection([(values[i], i) for i in value_sorted])\n",
    "\n",
    "    def greedy_by_weight():\n",
    "        weight_sorted = sorted(range(len(items)), key=lambda i: weights[i])\n",
    "        return greedy_selection([(1 / weights[i], i) for i in weight_sorted])\n",
    "\n",
    "    def greedy_selection(sorted_items):\n",
    "        knapsack = []\n",
    "        total_weight = 0\n",
    "        total_value = 0\n",
    "        for _, i in sorted_items:\n",
    "            if total_weight + weights[i] <= max_weight:\n",
    "                knapsack.append(items[i])\n",
    "                total_weight += weights[i]\n",
    "                total_value += values[i]\n",
    "        return knapsack, total_value\n",
    "\n",
    "    knapsack1, value1 = greedy_by_ratio()\n",
    "    knapsack2, value2 = greedy_by_value()\n",
    "    knapsack3, value3 = greedy_by_weight()\n",
    "\n",
    "    if value1 >= value2 and value1 >= value3:\n",
    "        return knapsack1, value1\n",
    "    elif value2 >= value1 and value2 >= value3:\n",
    "        return knapsack2, value2\n",
    "    else:\n",
    "        return knapsack3, value3\n"
   ],
   "outputs": [],
   "execution_count": 168
  },
  {
   "metadata": {
    "ExecuteTime": {
     "end_time": "2024-05-28T09:42:03.029407Z",
     "start_time": "2024-05-28T09:42:02.997768Z"
    }
   },
   "cell_type": "code",
   "source": [
    "# Find the best combination of items to maximize value\n",
    "knapsack, max_value = knapsack_greedy(items, Values, Weights, max_weight)"
   ],
   "outputs": [],
   "execution_count": 169
  },
  {
   "metadata": {
    "ExecuteTime": {
     "end_time": "2024-05-28T09:42:03.123169Z",
     "start_time": "2024-05-28T09:42:03.091915Z"
    }
   },
   "cell_type": "code",
   "source": [
    "# Display the items, description, value and weight in a tablular format with the total value and weight\n",
    "df = pd.DataFrame({\"Item\": knapsack, \"Description\": [dict_items[item][\"Description\"] for item in knapsack], \"Value\": [dict_items[item][\"Value\"] for item in knapsack], \"Weight\": [dict_items[item][\"Weight\"] for item in knapsack]})\n",
    "df.loc[len(df)] = [\"Total\", \"\", max_value, max_weight]\n",
    "df"
   ],
   "outputs": [
    {
     "data": {
      "text/plain": [
       "                        Item  \\\n",
       "0   Sceptre of Eternal Power   \n",
       "1  The Crown of the Pharaohs   \n",
       "2  The Golden Mask of Osiris   \n",
       "3                      Total   \n",
       "\n",
       "                                         Description    Value  Weight  \n",
       "0  A jewelled sceptre adorned with rare gems, sai...  1000000       5  \n",
       "1  A majestic crown adorned with rare jewels and ...       15       3  \n",
       "2  A magnificent mask crafted from solid gold, de...       10       2  \n",
       "3                                                     1000025      10  "
      ],
      "text/html": [
       "<div>\n",
       "<style scoped>\n",
       "    .dataframe tbody tr th:only-of-type {\n",
       "        vertical-align: middle;\n",
       "    }\n",
       "\n",
       "    .dataframe tbody tr th {\n",
       "        vertical-align: top;\n",
       "    }\n",
       "\n",
       "    .dataframe thead th {\n",
       "        text-align: right;\n",
       "    }\n",
       "</style>\n",
       "<table border=\"1\" class=\"dataframe\">\n",
       "  <thead>\n",
       "    <tr style=\"text-align: right;\">\n",
       "      <th></th>\n",
       "      <th>Item</th>\n",
       "      <th>Description</th>\n",
       "      <th>Value</th>\n",
       "      <th>Weight</th>\n",
       "    </tr>\n",
       "  </thead>\n",
       "  <tbody>\n",
       "    <tr>\n",
       "      <th>0</th>\n",
       "      <td>Sceptre of Eternal Power</td>\n",
       "      <td>A jewelled sceptre adorned with rare gems, sai...</td>\n",
       "      <td>1000000</td>\n",
       "      <td>5</td>\n",
       "    </tr>\n",
       "    <tr>\n",
       "      <th>1</th>\n",
       "      <td>The Crown of the Pharaohs</td>\n",
       "      <td>A majestic crown adorned with rare jewels and ...</td>\n",
       "      <td>15</td>\n",
       "      <td>3</td>\n",
       "    </tr>\n",
       "    <tr>\n",
       "      <th>2</th>\n",
       "      <td>The Golden Mask of Osiris</td>\n",
       "      <td>A magnificent mask crafted from solid gold, de...</td>\n",
       "      <td>10</td>\n",
       "      <td>2</td>\n",
       "    </tr>\n",
       "    <tr>\n",
       "      <th>3</th>\n",
       "      <td>Total</td>\n",
       "      <td></td>\n",
       "      <td>1000025</td>\n",
       "      <td>10</td>\n",
       "    </tr>\n",
       "  </tbody>\n",
       "</table>\n",
       "</div>"
      ]
     },
     "execution_count": 170,
     "metadata": {},
     "output_type": "execute_result"
    }
   ],
   "execution_count": 170
  },
  {
   "metadata": {},
   "cell_type": "raw",
   "source": [
    "Compare the results of the brute force, dynamic programming, and greedy approaches. Which approach do you think is the best for this problem? Why?\n",
    "For the given problem, the brute force approach is not efficient as it involves checking all possible combinations of items which results in an exponential time complexity. The dynamic programming approach is more efficient as it avoids recomputing the same subproblems by storing the results in a memoization table. The greedy approach is the simplest and fastest among the three, but it may not always provide the optimal solution. In this case, the dynamic programming approach is the best as it guarantees the optimal solution while being more efficient than the brute force approach. The greedy approach can be a good choice if the problem constraints allow for it and the goal is to find a near-optimal solution quickly."
   ]
  },
  {
   "metadata": {},
   "cell_type": "raw",
   "source": [
    "Comparing the time and space complexity of the brute force, dynamic programming, and greedy approaches, which one do you think is the most efficient for this problem?\n",
    "The time complexity of the brute force approach is O(2^n) where n is the number of items, as it involves checking all possible combinations of items. The space complexity is O(n) to store the combination and value of each subset. The time complexity of the dynamic programming approach is O(n*W) where n is the number of items and W is the maximum weight, as it computes the value of each subproblem once and reuses it when needed. The space complexity is O(n*W) to store the results of the subproblems in a memoization table. The time complexity of the greedy approach is O(nlogn) as it involves sorting the items based on certain criteria. The space complexity is O(n) to store the sorted items. In terms of efficiency, the dynamic programming approach is the most efficient for this problem as it guarantees the optimal solution with a polynomial time complexity and space complexity."
   ]
  }
 ],
 "metadata": {
  "kernelspec": {
   "display_name": "Python 3",
   "language": "python",
   "name": "python3"
  },
  "language_info": {
   "codemirror_mode": {
    "name": "ipython",
    "version": 2
   },
   "file_extension": ".py",
   "mimetype": "text/x-python",
   "name": "python",
   "nbconvert_exporter": "python",
   "pygments_lexer": "ipython2",
   "version": "2.7.6"
  }
 },
 "nbformat": 4,
 "nbformat_minor": 0
}
